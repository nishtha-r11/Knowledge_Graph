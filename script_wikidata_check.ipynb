{
 "cells": [
  {
   "cell_type": "markdown",
   "id": "15f4a27e-883b-461d-bc6c-954051ca12f4",
   "metadata": {},
   "source": [
    "### For checking availability of wikidata dumps"
   ]
  },
  {
   "cell_type": "code",
   "execution_count": 2,
   "id": "f05ef771-c35a-425a-9e7f-f5976a69deea",
   "metadata": {},
   "outputs": [
    {
     "name": "stdout",
     "output_type": "stream",
     "text": [
      "https://dumps.wikimedia.org/wikidatawiki/entities/20250203/\n",
      "https://dumps.wikimedia.org/wikidatawiki/entities/20250205/\n",
      "https://dumps.wikimedia.org/wikidatawiki/entities/20250207/\n",
      "https://dumps.wikimedia.org/wikidatawiki/entities/20250210/\n",
      "https://dumps.wikimedia.org/wikidatawiki/entities/20250211/\n",
      "https://dumps.wikimedia.org/wikidatawiki/entities/20250212/\n",
      "https://dumps.wikimedia.org/wikidatawiki/entities/20250214/\n",
      "https://dumps.wikimedia.org/wikidatawiki/entities/20250216/\n",
      "https://dumps.wikimedia.org/wikidatawiki/entities/20250217/\n",
      "https://dumps.wikimedia.org/wikidatawiki/entities/20250219/\n",
      "https://dumps.wikimedia.org/wikidatawiki/entities/20250221/\n",
      "https://dumps.wikimedia.org/wikidatawiki/entities/20250225/\n",
      "https://dumps.wikimedia.org/wikidatawiki/entities/20250226/\n",
      "https://dumps.wikimedia.org/wikidatawiki/entities/20250228/\n",
      "https://dumps.wikimedia.org/wikidatawiki/entities/20250304/\n",
      "https://dumps.wikimedia.org/wikidatawiki/entities/20250305/\n",
      "https://dumps.wikimedia.org/wikidatawiki/entities/20250307/\n",
      "https://dumps.wikimedia.org/wikidatawiki/entities/20250310/\n",
      "https://dumps.wikimedia.org/wikidatawiki/entities/20250312/\n",
      "https://dumps.wikimedia.org/wikidatawiki/entities/20250314/\n",
      "['latest-all.json.bz2', 'latest-all.json.gz']\n"
     ]
    }
   ],
   "source": [
    "from bs4 import BeautifulSoup\n",
    "import urllib.request as urllib2\n",
    "import requests\n",
    "import ssl \n",
    "ssl._create_default_https_context = ssl._create_unverified_context\n",
    "\n",
    "final_list = []\n",
    "html_page = urllib2.urlopen(\"https://dumps.wikimedia.org/wikidatawiki/entities/\")\n",
    "soup = BeautifulSoup(html_page)\n",
    "links = soup.find_all('a', href=True)\n",
    "for link in links:\n",
    "    href = link['href']\n",
    "    if href.endswith('/'):\n",
    "        if href.endswith('./'):\n",
    "            continue\n",
    "        else:\n",
    "            nlink = f\"https://dumps.wikimedia.org/wikidatawiki/entities/{href}\"\n",
    "            print(nlink)\n",
    "            html_page = urllib2.urlopen(nlink)\n",
    "            soup = BeautifulSoup(html_page)\n",
    "            links_in = soup.find_all('a', href=True)\n",
    "            for link_in in links_in:\n",
    "                href_in = link_in['href']\n",
    "                if href_in.endswith('-all.json.bz2') or href_in.endswith('-all.json.gz'):\n",
    "                    # final_list.append(href_in)\n",
    "                    final_list.append(nlink)\n",
    "    else:\n",
    "        if href.endswith('-all.json.bz2') or href.endswith('-all.json.gz'):\n",
    "            # final_list.append(href)\n",
    "            final_list.append(href)\n",
    "        \n",
    "print(final_list)"
   ]
  },
  {
   "cell_type": "code",
   "execution_count": 6,
   "id": "0767fde0-469f-4544-b7fb-47ee47f82659",
   "metadata": {},
   "outputs": [
    {
     "data": {
      "text/plain": [
       "2"
      ]
     },
     "execution_count": 6,
     "metadata": {},
     "output_type": "execute_result"
    }
   ],
   "source": [
    "len(final_list)"
   ]
  },
  {
   "cell_type": "code",
   "execution_count": 1,
   "id": "90c8d950-4370-42a1-90f3-0fd1cecfbe56",
   "metadata": {},
   "outputs": [
    {
     "name": "stdout",
     "output_type": "stream",
     "text": [
      "https://dumps.wikimedia.org/wikidatawiki/entities/20250131/\n",
      "https://dumps.wikimedia.org/wikidatawiki/entities/20250203/\n",
      "https://dumps.wikimedia.org/wikidatawiki/entities/20250205/\n",
      "https://dumps.wikimedia.org/wikidatawiki/entities/20250207/\n",
      "https://dumps.wikimedia.org/wikidatawiki/entities/20250210/\n",
      "https://dumps.wikimedia.org/wikidatawiki/entities/20250211/\n",
      "https://dumps.wikimedia.org/wikidatawiki/entities/20250212/\n",
      "https://dumps.wikimedia.org/wikidatawiki/entities/20250214/\n",
      "https://dumps.wikimedia.org/wikidatawiki/entities/20250216/\n",
      "https://dumps.wikimedia.org/wikidatawiki/entities/20250217/\n",
      "https://dumps.wikimedia.org/wikidatawiki/entities/20250219/\n",
      "https://dumps.wikimedia.org/wikidatawiki/entities/20250221/\n",
      "https://dumps.wikimedia.org/wikidatawiki/entities/20250225/\n",
      "https://dumps.wikimedia.org/wikidatawiki/entities/20250226/\n",
      "https://dumps.wikimedia.org/wikidatawiki/entities/20250228/\n",
      "https://dumps.wikimedia.org/wikidatawiki/entities/20250304/\n",
      "https://dumps.wikimedia.org/wikidatawiki/entities/20250305/\n",
      "https://dumps.wikimedia.org/wikidatawiki/entities/20250307/\n",
      "https://dumps.wikimedia.org/wikidatawiki/entities/20250310/\n",
      "https://dumps.wikimedia.org/wikidatawiki/entities/20250312/\n",
      "['latest-all.json.bz2', 'latest-all.json.gz']\n"
     ]
    }
   ],
   "source": [
    "from bs4 import BeautifulSoup\n",
    "import urllib.request as urllib2\n",
    "import requests\n",
    "import ssl \n",
    "ssl._create_default_https_context = ssl._create_unverified_context\n",
    "\n",
    "final_list = [] # list for collecting file names\n",
    "html_page = urllib2.urlopen(\"https://dumps.wikimedia.org/wikidatawiki/entities/\")\n",
    "soup = BeautifulSoup(html_page)\n",
    "links = soup.find_all('a', href=True)\n",
    "for link in links:\n",
    "    href = link['href']\n",
    "    if href.endswith('/'):\n",
    "        if href.endswith('./'):\n",
    "            continue\n",
    "        else:\n",
    "            nlink = f\"https://dumps.wikimedia.org/wikidatawiki/entities/{href}\"\n",
    "            print(nlink)\n",
    "            html_page = urllib2.urlopen(nlink)\n",
    "            soup = BeautifulSoup(html_page)\n",
    "            links_in = soup.find_all('a', href=True)\n",
    "            for link_in in links_in:\n",
    "                href_in = link_in['href']\n",
    "                if href_in.endswith('-all.json.bz2') or href_in.endswith('-all.json.gz'):\n",
    "                # if href_in.endswith('.json.bz2') or href_in.endswith('.json.gz'): # testing when checking for data ending with just .json.bz2 or .gz\n",
    "                    final_list.append(href_in)\n",
    "                    # print(\"Data is present\")\n",
    "    else:\n",
    "        if href.endswith('-all.json.bz2') or href.endswith('-all.json.gz'):\n",
    "            final_list.append(href)\n",
    "            # print(\"Data is present\")\n",
    "        \n",
    "print(final_list)"
   ]
  },
  {
   "cell_type": "code",
   "execution_count": 1,
   "id": "5d9a7fac-deca-487d-a5b4-d754505ec1c0",
   "metadata": {},
   "outputs": [
    {
     "name": "stdout",
     "output_type": "stream",
     "text": [
      "https://dumps.wikimedia.org/wikidatawiki/entities/20250131/\n",
      "https://dumps.wikimedia.org/wikidatawiki/entities/20250203/\n",
      "https://dumps.wikimedia.org/wikidatawiki/entities/20250205/\n",
      "https://dumps.wikimedia.org/wikidatawiki/entities/20250207/\n",
      "https://dumps.wikimedia.org/wikidatawiki/entities/20250210/\n",
      "https://dumps.wikimedia.org/wikidatawiki/entities/20250211/\n",
      "https://dumps.wikimedia.org/wikidatawiki/entities/20250212/\n",
      "https://dumps.wikimedia.org/wikidatawiki/entities/20250214/\n",
      "https://dumps.wikimedia.org/wikidatawiki/entities/20250216/\n",
      "https://dumps.wikimedia.org/wikidatawiki/entities/20250217/\n",
      "https://dumps.wikimedia.org/wikidatawiki/entities/20250219/\n",
      "https://dumps.wikimedia.org/wikidatawiki/entities/20250221/\n",
      "https://dumps.wikimedia.org/wikidatawiki/entities/20250225/\n",
      "https://dumps.wikimedia.org/wikidatawiki/entities/20250226/\n",
      "https://dumps.wikimedia.org/wikidatawiki/entities/20250228/\n",
      "https://dumps.wikimedia.org/wikidatawiki/entities/20250304/\n",
      "https://dumps.wikimedia.org/wikidatawiki/entities/20250305/\n",
      "https://dumps.wikimedia.org/wikidatawiki/entities/20250307/\n",
      "https://dumps.wikimedia.org/wikidatawiki/entities/20250310/\n",
      "https://dumps.wikimedia.org/wikidatawiki/entities/20250312/\n",
      "['wikidata-20250131-lexemes-BETA.nt.bz2', 'wikidata-20250131-lexemes-BETA.nt.gz', 'wikidata-20250207-lexemes-BETA.nt.bz2', 'wikidata-20250207-lexemes-BETA.nt.gz', 'wikidata-20250214-lexemes-BETA.nt.bz2', 'wikidata-20250214-lexemes-BETA.nt.gz', 'wikidata-20250221-lexemes-BETA.nt.bz2', 'wikidata-20250221-lexemes-BETA.nt.gz', 'wikidata-20250228-lexemes-BETA.nt.bz2', 'wikidata-20250228-lexemes-BETA.nt.gz', 'wikidata-20250307-lexemes-BETA.nt.bz2', 'wikidata-20250307-lexemes-BETA.nt.gz', 'latest-all.json.bz2', 'latest-all.json.gz']\n"
     ]
    }
   ],
   "source": [
    "from bs4 import BeautifulSoup\n",
    "import urllib.request as urllib2\n",
    "import requests\n",
    "import ssl \n",
    "ssl._create_default_https_context = ssl._create_unverified_context\n",
    "\n",
    "final_list = [] # list for collecting file names\n",
    "html_page = urllib2.urlopen(\"https://dumps.wikimedia.org/wikidatawiki/entities/\")\n",
    "soup = BeautifulSoup(html_page)\n",
    "links = soup.find_all('a', href=True)\n",
    "for link in links:\n",
    "    href = link['href']\n",
    "    if href.endswith('/'):\n",
    "        if href.endswith('./'):\n",
    "            continue\n",
    "        else:\n",
    "            nlink = f\"https://dumps.wikimedia.org/wikidatawiki/entities/{href}\"\n",
    "            print(nlink)\n",
    "            html_page = urllib2.urlopen(nlink)\n",
    "            soup = BeautifulSoup(html_page)\n",
    "            links_in = soup.find_all('a', href=True)\n",
    "            for link_in in links_in:\n",
    "                href_in = link_in['href']\n",
    "                if href_in.endswith('-all.json.bz2') or href_in.endswith('-all.json.gz') or href_in.endswith('-BETA.nt.bz2') or href_in.endswith('-BETA.nt.gz'):\n",
    "                # if href_in.endswith('.json.bz2') or href_in.endswith('.json.gz'): # testing when checking for data ending with just .json.bz2 or .gz\n",
    "                    final_list.append(href_in)\n",
    "                    # print(\"Data is present\")\n",
    "    else:\n",
    "        if href.endswith('-all.json.bz2') or href.endswith('-all.json.gz'):\n",
    "            final_list.append(href)\n",
    "            # print(\"Data is present\")\n",
    "        \n",
    "print(final_list)\n",
    "\n",
    "# wikidata-20250228-lexemes-BETA.nt.bz2"
   ]
  },
  {
   "cell_type": "code",
   "execution_count": 2,
   "id": "bca96231-ea70-4f35-a095-e5be9e33cc4d",
   "metadata": {},
   "outputs": [
    {
     "data": {
      "text/plain": [
       "['wikidata-20250131-lexemes-BETA.nt.bz2',\n",
       " 'wikidata-20250131-lexemes-BETA.nt.gz',\n",
       " 'wikidata-20250207-lexemes-BETA.nt.bz2',\n",
       " 'wikidata-20250207-lexemes-BETA.nt.gz',\n",
       " 'wikidata-20250214-lexemes-BETA.nt.bz2',\n",
       " 'wikidata-20250214-lexemes-BETA.nt.gz',\n",
       " 'wikidata-20250221-lexemes-BETA.nt.bz2',\n",
       " 'wikidata-20250221-lexemes-BETA.nt.gz',\n",
       " 'wikidata-20250228-lexemes-BETA.nt.bz2',\n",
       " 'wikidata-20250228-lexemes-BETA.nt.gz',\n",
       " 'wikidata-20250307-lexemes-BETA.nt.bz2',\n",
       " 'wikidata-20250307-lexemes-BETA.nt.gz',\n",
       " 'latest-all.json.bz2',\n",
       " 'latest-all.json.gz']"
      ]
     },
     "execution_count": 2,
     "metadata": {},
     "output_type": "execute_result"
    }
   ],
   "source": [
    "final_list"
   ]
  },
  {
   "cell_type": "code",
   "execution_count": 4,
   "id": "bbd007a8-0a8d-4205-97ac-9f93093960eb",
   "metadata": {},
   "outputs": [
    {
     "name": "stdout",
     "output_type": "stream",
     "text": [
      "../\n",
      "Not present\n",
      "20250129/\n",
      "Not present\n",
      "20250131/\n",
      "Not present\n",
      "20250203/\n",
      "Not present\n",
      "20250205/\n",
      "Not present\n",
      "20250207/\n",
      "Not present\n",
      "20250210/\n",
      "Not present\n",
      "20250211/\n",
      "Not present\n",
      "20250212/\n",
      "Not present\n",
      "20250214/\n",
      "Not present\n",
      "20250216/\n",
      "Not present\n",
      "20250217/\n",
      "Not present\n",
      "20250219/\n",
      "Not present\n",
      "20250221/\n",
      "Not present\n",
      "20250225/\n",
      "Not present\n",
      "20250226/\n",
      "Not present\n",
      "20250228/\n",
      "Not present\n",
      "20250304/\n",
      "Not present\n",
      "20250305/\n",
      "Not present\n",
      "20250307/\n",
      "Not present\n",
      "20250310/\n",
      "Not present\n",
      "20250312/\n",
      "Not present\n",
      "dcatap.rdf\n",
      "latest-all.json.bz2\n",
      "latest-all.json.gz\n",
      "latest-all.nt.bz2\n",
      "latest-all.nt.gz\n",
      "latest-all.ttl.bz2\n",
      "latest-all.ttl.gz\n",
      "latest-lexemes.json.bz2\n",
      "latest-lexemes.json.gz\n",
      "latest-lexemes.nt.bz2\n",
      "latest-lexemes.nt.gz\n",
      "latest-lexemes.ttl.bz2\n",
      "latest-lexemes.ttl.gz\n",
      "latest-truthy.nt.bz2\n",
      "latest-truthy.nt.gz\n"
     ]
    }
   ],
   "source": [
    "from bs4 import BeautifulSoup\n",
    "import urllib.request as urllib2\n",
    "import requests\n",
    "import ssl \n",
    "ssl._create_default_https_context = ssl._create_unverified_context\n",
    "\n",
    "html_page = urllib2.urlopen(\"https://dumps.wikimedia.org/wikidatawiki/entities/\")\n",
    "re_list = []\n",
    "soup = BeautifulSoup(html_page)\n",
    "\n",
    "full_url = \"https://dumps.wikimedia.org/wikidatawiki/entities/\"\n",
    "links = soup.find_all('a', href=True)\n",
    "for link in links:\n",
    "    href = link['href']\n",
    "    print(href)\n",
    "    # if href.endswith('.gz'):\n",
    "    if href.endswith('./'):\n",
    "        continue\n",
    "    if href.endswith('/'):\n",
    "        print(\"present\")\n",
    "        # print(f'Checking availability of {full_url}...')\n",
    "    #     try:\n",
    "    #         response = requests.head(html_link, allow_redirects=True)\n",
    "    #         if response.status_code == 200:\n",
    "    #             file_size = response.headers.get('Content-Length', 'Unknown')\n",
    "    #             print(f'{full_url} is available. File size: {file_size} bytes.')\n",
    "    #         else:\n",
    "    #             print(f'{full_url} is not available. Status code: {response.status_code}')\n",
    "    #     except requests.exceptions.RequestException as e:\n",
    "    #         print(f'Error checking {full_url}: {e}')\n",
    "    # elif href.endswith('.html') or href.endswith('/'):\n",
    "    #     print(f'Recursively checking {full_url}...')\n",
    "    #     check_gz_links_and_recurse(full_url)\n",
    "\n"
   ]
  },
  {
   "cell_type": "code",
   "execution_count": null,
   "id": "8e3414d9-8a6c-455c-bdee-692319b00d60",
   "metadata": {},
   "outputs": [],
   "source": []
  },
  {
   "cell_type": "code",
   "execution_count": null,
   "id": "7ae634f3-b73d-4c6c-a1c4-edf2faad278d",
   "metadata": {},
   "outputs": [],
   "source": []
  },
  {
   "cell_type": "code",
   "execution_count": null,
   "id": "cef7fcd3-e182-456b-9aec-90695939517e",
   "metadata": {},
   "outputs": [],
   "source": []
  }
 ],
 "metadata": {
  "kernelspec": {
   "display_name": "Python 3 (ipykernel)",
   "language": "python",
   "name": "python3"
  },
  "language_info": {
   "codemirror_mode": {
    "name": "ipython",
    "version": 3
   },
   "file_extension": ".py",
   "mimetype": "text/x-python",
   "name": "python",
   "nbconvert_exporter": "python",
   "pygments_lexer": "ipython3",
   "version": "3.9.21"
  }
 },
 "nbformat": 4,
 "nbformat_minor": 5
}
